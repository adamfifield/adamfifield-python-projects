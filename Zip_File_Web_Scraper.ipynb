{
 "cells": [
  {
   "cell_type": "code",
   "execution_count": null,
   "metadata": {},
   "outputs": [],
   "source": [
    "##########\n",
    "#Web scraper designed to download all .zip files on a downloads page to a local directory\n",
    "#Special thanks to Julia Kho, who wrote on this topic at: https://towardsdatascience.com/how-to-web-scrape-with-python-in-4-minutes-bc49186a8460\n",
    "\n",
    "#Note: website url has been scrubbed, as it is not public\n",
    "##########\n",
    "\n",
    "\n",
    "\n",
    "# Import libraries\n",
    "import requests\n",
    "import urllib.request\n",
    "import time\n",
    "from bs4 import BeautifulSoup\n",
    "\n",
    "# Set the URL you want to webscrape from\n",
    "url = ''\n",
    "\n",
    "# Connect to the URL\n",
    "response = requests.get(url)\n",
    "\n",
    "# Parse HTML and save to BeautifulSoup object¶\n",
    "soup = BeautifulSoup(response.text, \"html.parser\")\n",
    "\n",
    "#Gather list of a tags\n",
    "a_tags = soup.findAll('a')\n",
    "\n",
    "#Sort out only the a tags which are relevant for downloads of zip files and build a new list as basis of download\n",
    "dwnld_zip = ('DOWNLOAD', '.zip')\n",
    "a_tags_trim = [s for s in a_tags if any(xs in s for xs in dwnld_zip)]\n",
    "\n",
    "# To download the whole data set, let's do a for loop through all a tags\n",
    "for i in a_tags_trim:  #iterate through our trimmed down list\n",
    "        link = i['href'] #grab just the download link\n",
    "        urllib.request.urlretrieve(link,'D:\\\\Content\\\\Zip_files\\\\'+link[len(link)-link[::-1].find('/'):]) #download the files and store to my D: drive, assigning file names from the site\n",
    "        time.sleep(1) #pause the code for a sec"
   ]
  }
 ],
 "metadata": {
  "kernelspec": {
   "display_name": "Python 3",
   "language": "python",
   "name": "python3"
  },
  "language_info": {
   "codemirror_mode": {
    "name": "ipython",
    "version": 3
   },
   "file_extension": ".py",
   "mimetype": "text/x-python",
   "name": "python",
   "nbconvert_exporter": "python",
   "pygments_lexer": "ipython3",
   "version": "3.7.6"
  }
 },
 "nbformat": 4,
 "nbformat_minor": 4
}
